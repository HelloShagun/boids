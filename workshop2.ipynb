{
 "cells": [
  {
   "cell_type": "code",
   "execution_count": null,
   "id": "40b816b5-e707-482d-b0ad-438130e6fc21",
   "metadata": {},
   "outputs": [],
   "source": [
    "# Checking how forking and cloning works \n",
    "import numpy as np\n",
    "import matplotlib.animation as animation\n",
    "from IPython.display import HTML\n",
    "from matplotlib import pyplot as plt\n",
    "\n",
    "\n",
    "def generate_boid_attributes(lower, upper, n=10):\n",
    "    \"\"\"use numpy instead of randint from lists.\n",
    "    numpy returns a matrix, instead of a list\"\"\"\n",
    "    width = upper - lower\n",
    "    attributes = np.random.random_sample(size=(2, n)) * width[:, np.newaxis]\n",
    "    # new axis added to make shapes consistent\n",
    "    attributes += lower[:, np.newaxis]\n",
    "    return attributes\n",
    "\n",
    "    # similar function as attributes[0][0]\n",
    "    # with np you use one square bracket only\n",
    "\n",
    "\n",
    "expected = (2, 10)\n",
    "actual = generate_boid_attributes(np.array([0, 0]), np.array([1, 1])).shape\n",
    "assert expected == actual\n",
    "# 2 rows of 10 items. shape-member variation\n",
    "\n",
    "# first_boid_first_attribute = generate_boid_attributes([0,0], [10,10])[0][0]\n",
    "# assert first_boid_first_attribute == 0, first_boid_first_attribute"
   ]
  },
  {
   "cell_type": "code",
   "execution_count": null,
   "id": "76452091-1748-4474-a7c2-2a461ac86ea6",
   "metadata": {
    "tags": []
   },
   "outputs": [],
   "source": [
    "lower_p = np.array([150, 300])  # x-lower, y-lower\n",
    "upper_p = np.array([200, 400])  # x-upper, y-upper\n",
    "\n",
    "\n",
    "positions = generate_boid_attributes(lower_p, upper_p)\n",
    "positions"
   ]
  },
  {
   "cell_type": "code",
   "execution_count": null,
   "id": "275d4af9-fad5-44aa-9d23-34051564643c",
   "metadata": {},
   "outputs": [],
   "source": [
    "lower_v = np.array([5, -10])  # x-lower, y-lower\n",
    "upper_v = np.array([15, 5])  # x-upper, y-upper\n",
    "\n",
    "velocities = generate_boid_attributes(lower_v, upper_v)"
   ]
  },
  {
   "cell_type": "code",
   "execution_count": null,
   "id": "abf93808-9724-449b-bb77-8ff09c7b6d8f",
   "metadata": {},
   "outputs": [],
   "source": [
    "\n",
    "plt.xlim(0, 4 * upper_p[0] + upper_v[0])\n",
    "plt.ylim(0, 2 * upper_p[1] + upper_v[1])\n",
    "\n",
    "scat2 = plt.scatter(positions[0, :], positions[1, :])"
   ]
  },
  {
   "cell_type": "code",
   "execution_count": null,
   "id": "55d00572-a14b-4c35-bbfd-131d1bc17102",
   "metadata": {},
   "outputs": [],
   "source": [
    "def update_boids(positions, velocities):\n",
    "    \"\"\"update the boid positions\"\"\"\n",
    "    positions += velocities\n",
    "\n",
    "\n",
    "def animate(frames):\n",
    "    \"\"\"update the scatter plot.\"\"\"\n",
    "    update_boids(positions, velocities)\n",
    "    scat2.set_offsets(\n",
    "        positions.transpose()\n",
    "    )  # when numpy generates list, it's 2 row x n columns. Need transpose"
   ]
  },
  {
   "cell_type": "code",
   "execution_count": null,
   "id": "15a4a005-ff95-47a9-9004-ab131c63ea9c",
   "metadata": {},
   "outputs": [],
   "source": [
    "\n",
    "\n",
    "anim = animation.FuncAnimation(\n",
    "    scat2.figure, animate, frames=50, interval=50\n",
    ")  # 50 frames, 50ms per frame\n",
    "\n",
    "HTML(anim.to_jshtml())"
   ]
  },
  {
   "cell_type": "code",
   "execution_count": null,
   "id": "707aa337-a1b4-48ec-8b56-93c5b16753d0",
   "metadata": {
    "tags": []
   },
   "outputs": [],
   "source": [
    "!pip install flake8\n",
    "!pip install nbqa\n",
    "!nbqa --help"
   ]
  },
  {
   "cell_type": "code",
   "execution_count": null,
   "id": "5ee1dd26-3d99-4a20-90c9-a513ec3be450",
   "metadata": {
    "tags": []
   },
   "outputs": [],
   "source": [
    "!nbqa flake8 workshop2.ipynb"
   ]
  },
  {
   "cell_type": "code",
   "execution_count": null,
   "id": "ae5749eb-9ece-423a-aef6-51c582af17b5",
   "metadata": {},
   "outputs": [],
   "source": []
  }
 ],
 "metadata": {
  "kernelspec": {
   "display_name": "Python 3 (ipykernel)",
   "language": "python",
   "name": "python3"
  },
  "language_info": {
   "codemirror_mode": {
    "name": "ipython",
    "version": 3
   },
   "file_extension": ".py",
   "mimetype": "text/x-python",
   "name": "python",
   "nbconvert_exporter": "python",
   "pygments_lexer": "ipython3",
   "version": "3.10.0"
  }
 },
 "nbformat": 4,
 "nbformat_minor": 5
}
