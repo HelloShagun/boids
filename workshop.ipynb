{
 "cells": [
  {
   "cell_type": "code",
   "execution_count": null,
   "id": "3f1e0dd3-f41b-4f97-9bf1-cc9f302d26ca",
   "metadata": {
    "tags": []
   },
   "outputs": [],
   "source": [
    "print('hello world')"
   ]
  },
  {
   "cell_type": "code",
   "execution_count": null,
   "id": "04216fdc-edb4-4c26-81ff-c2b9c3b5977b",
   "metadata": {},
   "outputs": [],
   "source": [
    "from random import randint\n",
    "\n",
    "lower = [150,300] # x-lower, y-lower\n",
    "upper = [200,400] # x-upper, y-upper\n",
    "\n",
    "pos=[]\n",
    "for i in range(10):\n",
    "    pos.append((randint(lower[0],upper[0]), randint(lower[1],upper[1])))  # coordinates in a tuple. avoid lists within lists\n",
    "\n",
    "pos\n"
   ]
  },
  {
   "cell_type": "code",
   "execution_count": null,
   "id": "adb2e02f-5218-4c04-acdd-5cf69a1db9a1",
   "metadata": {},
   "outputs": [],
   "source": [
    "lower_v = [5,-10] # x-lower, y-lower\n",
    "upper_v = [15,5] # x-upper, y-upper\n",
    "\n",
    "vel=[]\n",
    "for i in range(10):\n",
    "    vel.append((randint(lower_v[0],upper_v[0]), randint(lower_v[1],upper_v[1])))  # in a tuple. avoid lists within list\n",
    "    \n",
    "vel\n",
    "    "
   ]
  },
  {
   "cell_type": "code",
   "execution_count": null,
   "id": "2d33eff2-469c-4ca4-a80d-76c8f9eb510a",
   "metadata": {},
   "outputs": [],
   "source": [
    "from matplotlib import pyplot as pl\n",
    "x_vals = [p[0] for p in pos]\n",
    "y_vals = [p[1] for p in pos]\n",
    "\n",
    "plt.xlim(0,700)\n",
    "plt.ylim(0,700)\n",
    "\n",
    "scat = plot.scatter(x_vals,y_vals)"
   ]
  },
  {
   "cell_type": "code",
   "execution_count": null,
   "id": "ffcec58e-5525-4880-ba59-c4e35095be89",
   "metadata": {
    "tags": []
   },
   "outputs": [],
   "source": [
    "!pip"
   ]
  },
  {
   "cell_type": "code",
   "execution_count": null,
   "id": "22689ad3-6a0c-470d-b0de-d203ecfb9c4b",
   "metadata": {},
   "outputs": [],
   "source": [
    "!pip isntall matplotlib"
   ]
  },
  {
   "cell_type": "code",
   "execution_count": null,
   "id": "9566cd1a-7e17-4e65-9b3c-308ef03daa4d",
   "metadata": {},
   "outputs": [],
   "source": [
    "!pip install matplotlib"
   ]
  },
  {
   "cell_type": "code",
   "execution_count": null,
   "id": "43fdc746-6208-4a06-b082-b0abcea69b0e",
   "metadata": {},
   "outputs": [],
   "source": [
    "from matplotlib import pyplot as plt\n",
    "x_vals = [p[0] for p in pos]\n",
    "y_vals = [p[1] for p in pos]\n",
    "\n",
    "plt.xlim(0,700)\n",
    "plt.ylim(0,700)\n",
    "\n",
    "scat = plt.scatter(x_vals,y_vals)"
   ]
  },
  {
   "cell_type": "code",
   "execution_count": null,
   "id": "429aee20-f1e0-4714-9e3e-f8f01781d7b0",
   "metadata": {},
   "outputs": [],
   "source": [
    "def update_scatter(frames):\n",
    "    '''update the scatter plot'''    #help generate documentations when called help(function)\n",
    "    for i in range(len(pos)):\n",
    "        pos[i] = (pos[i][0] + vel[i][0],\n",
    "                  pos[i][1] + vel[i][1])\n",
    "        \n",
    "    scat.set_offsets(pos)"
   ]
  },
  {
   "cell_type": "code",
   "execution_count": null,
   "id": "97ed33bd-b6e4-4e1b-bc25-a028ea44246e",
   "metadata": {
    "tags": []
   },
   "outputs": [],
   "source": [
    "import matplotlib.animation as animation\n",
    "from IPython.display import HTML\n",
    "\n",
    "anim = animation.FuncAnimation(scat.figure, update_scatter, frames=50, interval=50) #50 frames, 50ms per frame\n",
    "\n",
    "HTML(anim.to_jshtml())"
   ]
  },
  {
   "cell_type": "code",
   "execution_count": null,
   "id": "0b3a53dc-52f4-432c-bb1f-7072d9e88dbb",
   "metadata": {
    "tags": []
   },
   "outputs": [],
   "source": [
    "help(animation.FuncAnimation)"
   ]
  },
  {
   "cell_type": "code",
   "execution_count": null,
   "id": "383275e2-765e-4aa5-9af9-ddafd3130060",
   "metadata": {},
   "outputs": [],
   "source": [
    "help(update_scatter)"
   ]
  },
  {
   "cell_type": "code",
   "execution_count": 38,
   "id": "34aaa21c-7ac0-4eff-bae8-a58eef9a4ecb",
   "metadata": {
    "tags": []
   },
   "outputs": [
    {
     "name": "stdout",
     "output_type": "stream",
     "text": [
      "passed\n"
     ]
    }
   ],
   "source": [
    "from random import randint\n",
    "\n",
    "def generate_boid_attributes(lower, upper, n=10):\n",
    "    ''' use a function to generate random numbers instead of generating in main code'''\n",
    "    attributes = []\n",
    "    for i in range(n):\n",
    "        attributes.append((randint(lower[0],upper[0]), \n",
    "                            randint(lower[1],upper[1])))\n",
    "    return attributes\n",
    "\n",
    "assert len(generate_boid_attributes([0,0], [1,1])) == 10\n",
    "\n",
    "# first_boid_first_attribute = generate_boid_attributes([0,0], [10,10])[0][0]\n",
    "# assert first_boid_first_attribute == 0, first_boid_first_attribute\n",
    "\n",
    "if len(generate_boid_attributes([0,0], [1,1])) != 10:\n",
    "    print('failed')\n",
    "else:\n",
    "    print('passed')"
   ]
  },
  {
   "cell_type": "code",
   "execution_count": 35,
   "id": "87f00eed-243d-4e77-9f50-c874e61da7ef",
   "metadata": {},
   "outputs": [],
   "source": [
    "lower = [150,300] # x-lower, y-lower\n",
    "upper = [200,400] # x-upper, y-upper\n",
    "lower_v = [5,-10] # x-lower, y-lower\n",
    "upper_v = [15,5] # x-upper, y-upper\n",
    "\n",
    "pos = generate_boid_attributes(lower, upper, 10)\n",
    "vel = generate_boid_attributes(lower_v, upper_v, 10)"
   ]
  },
  {
   "cell_type": "code",
   "execution_count": null,
   "id": "c30246ff-e9be-4e51-b56b-a406433c61d2",
   "metadata": {},
   "outputs": [],
   "source": [
    "print(pos)\n",
    "print(vel)"
   ]
  },
  {
   "cell_type": "code",
   "execution_count": null,
   "id": "72f630e8-48bc-4fa8-a41a-c105b9c12850",
   "metadata": {},
   "outputs": [],
   "source": [
    "pos1 = generate_boid_attributes(lower, upper, 15)\n",
    "print(pos1)"
   ]
  },
  {
   "cell_type": "code",
   "execution_count": null,
   "id": "dc0add0c-4db0-4f1d-af43-dcda352e543d",
   "metadata": {},
   "outputs": [],
   "source": []
  }
 ],
 "metadata": {
  "kernelspec": {
   "display_name": "Python 3 (ipykernel)",
   "language": "python",
   "name": "python3"
  },
  "language_info": {
   "codemirror_mode": {
    "name": "ipython",
    "version": 3
   },
   "file_extension": ".py",
   "mimetype": "text/x-python",
   "name": "python",
   "nbconvert_exporter": "python",
   "pygments_lexer": "ipython3",
   "version": "3.10.0"
  }
 },
 "nbformat": 4,
 "nbformat_minor": 5
}
